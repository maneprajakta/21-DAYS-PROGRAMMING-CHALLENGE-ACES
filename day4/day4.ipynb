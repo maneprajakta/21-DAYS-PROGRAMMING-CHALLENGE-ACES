{
 "cells": [
  {
   "cell_type": "markdown",
   "metadata": {},
   "source": [
    "# Gradient Descent"
   ]
  },
  {
   "cell_type": "code",
   "execution_count": 2,
   "metadata": {},
   "outputs": [],
   "source": [
    "import matplotlib.pyplot as plt\n",
    "import numpy as np\n",
    "from sklearn import linear_model,datasets\n",
    "from sklearn.metrics import mean_squared_error,r2_score"
   ]
  },
  {
   "cell_type": "code",
   "execution_count": 21,
   "metadata": {},
   "outputs": [],
   "source": [
    "df = datasets.load_diabetes()\n",
    "X = df.data[:,np.newaxis,2]\n",
    "y = df.target"
   ]
  },
  {
   "cell_type": "code",
   "execution_count": 23,
   "metadata": {},
   "outputs": [],
   "source": [
    "from sklearn.model_selection import train_test_split\n",
    "X_train,X_tes,y_train,y_test = train_test_split(X,y)"
   ]
  },
  {
   "cell_type": "code",
   "execution_count": 26,
   "metadata": {},
   "outputs": [
    {
     "name": "stderr",
     "output_type": "stream",
     "text": [
      "/home/ubuntu/.local/lib/python3.8/site-packages/sklearn/linear_model/_stochastic_gradient.py:1208: ConvergenceWarning: Maximum number of iteration reached before convergence. Consider increasing max_iter to improve the fit.\n",
      "  warnings.warn(\"Maximum number of iteration reached before \"\n"
     ]
    },
    {
     "data": {
      "text/plain": [
       "SGDRegressor()"
      ]
     },
     "execution_count": 26,
     "metadata": {},
     "output_type": "execute_result"
    }
   ],
   "source": [
    "regr = linear_model.SGDRegressor()\n",
    "regr.fit(X_train,y_train)"
   ]
  },
  {
   "cell_type": "code",
   "execution_count": 28,
   "metadata": {},
   "outputs": [
    {
     "data": {
      "text/plain": [
       "array([144.47264854, 143.45583109, 161.75854524, 159.38597118,\n",
       "       135.99916977, 163.79218014, 144.13370939, 146.8452226 ,\n",
       "       205.48169571, 145.48946599, 174.29929382, 180.06125939,\n",
       "       156.67445797, 176.67186788, 156.33551882, 171.58778061,\n",
       "       154.30188392, 166.1647542 , 149.89567496, 167.5205108 ,\n",
       "       138.03280467, 167.85944995, 139.72750043, 160.40278863,\n",
       "       145.15052684, 145.15052684, 142.77795279, 128.2035693 ,\n",
       "       147.18416175, 168.53732826, 130.9150825 , 134.30447401,\n",
       "       171.92671977, 139.38856128, 144.81158769, 145.15052684,\n",
       "       174.97717212, 140.40537873, 152.60718816, 172.26565892,\n",
       "       158.36915373, 145.15052684, 147.5231009 , 185.82322495,\n",
       "       161.08066694, 169.89308486, 152.26824901, 151.59037071,\n",
       "       153.62400562, 155.99657967, 194.29670373, 140.40537873,\n",
       "       176.33292873, 135.66023062, 181.75595514, 153.62400562,\n",
       "       146.50628345, 193.61882542, 160.40278863, 167.18157165,\n",
       "       166.50369335, 164.8089976 , 165.4868759 , 151.59037071,\n",
       "       166.8426325 , 151.92930986, 159.72491033, 153.62400562,\n",
       "       165.14793675, 145.15052684, 158.70809288, 153.96294477,\n",
       "       158.03021458, 158.70809288, 151.25143156, 164.47005844,\n",
       "       150.57355326, 129.22038675, 152.94612731, 173.62141552,\n",
       "       152.26824901, 135.99916977, 170.57096316, 147.18416175,\n",
       "       149.21779665, 143.45583109, 158.03021458, 158.03021458,\n",
       "       160.06384948, 152.26824901, 145.15052684, 148.2009792 ,\n",
       "       147.86204005, 147.5231009 , 143.11689194, 177.34974618,\n",
       "       135.32129147, 173.96035467, 140.74431788, 133.96553486,\n",
       "       140.40537873, 175.31611127, 189.89049476, 176.67186788,\n",
       "       151.92930986, 167.18157165, 177.34974618, 134.30447401,\n",
       "       171.24884146, 161.41960609, 149.89567496])"
      ]
     },
     "execution_count": 28,
     "metadata": {},
     "output_type": "execute_result"
    }
   ],
   "source": [
    "diabetes_y_pred = regr.predict(X_tes)\n",
    "diabetes_y_pred\n"
   ]
  },
  {
   "cell_type": "code",
   "execution_count": null,
   "metadata": {},
   "outputs": [],
   "source": []
  }
 ],
 "metadata": {
  "kernelspec": {
   "display_name": "Python 3.7.5 64-bit",
   "language": "python",
   "name": "python37564bitf505afbb3cd14e9e810aea8401c0e7b8"
  }
 },
 "nbformat": 4,
 "nbformat_minor": 4
}
