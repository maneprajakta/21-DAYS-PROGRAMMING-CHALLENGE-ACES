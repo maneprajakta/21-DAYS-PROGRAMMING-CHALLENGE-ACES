{
 "cells": [
  {
   "cell_type": "markdown",
   "metadata": {},
   "source": [
    "# Data Modelling"
   ]
  },
  {
   "cell_type": "markdown",
   "metadata": {},
   "source": [
    "## Loading the dataset "
   ]
  },
  {
   "cell_type": "code",
   "execution_count": 11,
   "metadata": {},
   "outputs": [
    {
     "name": "stdout",
     "output_type": "stream",
     "text": [
      "Feature_Name ['sepal length (cm)', 'sepal width (cm)', 'petal length (cm)', 'petal width (cm)']\n",
      "Target_Name ['setosa' 'versicolor' 'virginica']\n",
      "Sample Features [[5.1 3.5 1.4 0.2]\n",
      " [4.9 3.  1.4 0.2]]\n",
      "Sample Target [0 0]\n"
     ]
    }
   ],
   "source": [
    "from sklearn.datasets import load_iris\n",
    "iris = load_iris()\n",
    "X = iris.data\n",
    "Y = iris.target\n",
    "print(\"Feature_Name\",iris.feature_names)\n",
    "print(\"Target_Name\",iris.target_names)\n",
    "print(\"Sample Features\",X[:2])\n",
    "print(\"Sample Target\",Y[:2])"
   ]
  },
  {
   "cell_type": "markdown",
   "metadata": {},
   "source": [
    "### Splitting the dataset"
   ]
  },
  {
   "cell_type": "code",
   "execution_count": 5,
   "metadata": {},
   "outputs": [
    {
     "name": "stdout",
     "output_type": "stream",
     "text": [
      "Training dataset shape (120, 4)\n",
      "Testing dataset shape (30, 4)\n",
      "Training dataset shape (120,)\n",
      "Testing dataset shape (30,)\n"
     ]
    }
   ],
   "source": [
    "from sklearn.model_selection import train_test_split\n",
    "\n",
    "X_train,X_test,Y_train,Y_test = train_test_split(X,Y,test_size=0.2,random_state=1)\n",
    "\n",
    "print(\"Training dataset shape\",X_train.shape)\n",
    "print(\"Testing dataset shape\",X_test.shape)\n",
    "\n",
    "print(\"Training dataset shape\",Y_train.shape)\n",
    "print(\"Testing dataset shape\",Y_test.shape)"
   ]
  },
  {
   "cell_type": "markdown",
   "metadata": {},
   "source": [
    "### Training Model"
   ]
  },
  {
   "cell_type": "code",
   "execution_count": 12,
   "metadata": {},
   "outputs": [
    {
     "name": "stdout",
     "output_type": "stream",
     "text": [
      "Accuracy: 1.0\n",
      "Predictions: ['versicolor', 'virginica']\n"
     ]
    }
   ],
   "source": [
    "from sklearn.neighbors import KNeighborsClassifier\n",
    "from sklearn import metrics\n",
    "\n",
    "classifier_knn = KNeighborsClassifier(n_neighbors=3)\n",
    "classifier_knn.fit(X_train,Y_train)\n",
    "y_pred = classifier_knn.predict(X_test)\n",
    "\n",
    "#Finding Accuracy\n",
    "print(\"Accuracy:\",metrics.accuracy_score(Y_test,y_pred))\n",
    "\n",
    "#providing sample data \n",
    "sample = [[1,2,3,4],[2,4,6,8]]\n",
    "preds = classifier_knn.predict(sample)\n",
    "pred_species = [iris.target_names[x] for x in preds]\n",
    "print(\"Predictions:\",pred_species)"
   ]
  },
  {
   "cell_type": "markdown",
   "metadata": {},
   "source": [
    "### Model Persistence "
   ]
  },
  {
   "cell_type": "code",
   "execution_count": 14,
   "metadata": {},
   "outputs": [
    {
     "data": {
      "text/plain": [
       "KNeighborsClassifier(n_neighbors=3)"
      ]
     },
     "execution_count": 14,
     "metadata": {},
     "output_type": "execute_result"
    }
   ],
   "source": [
    "#to avoid retraining of model again and again\n",
    "import joblib\n",
    "joblib.dump(classifier_knn,'iris_classifier_knn.joblib')\n",
    "\n",
    "#save the model \n",
    "#load the model\n",
    "joblib.load('iris_classifier_knn.joblib')"
   ]
  },
  {
   "cell_type": "markdown",
   "metadata": {},
   "source": [
    "### Preprocessing the Data"
   ]
  },
  {
   "cell_type": "markdown",
   "metadata": {},
   "source": [
    "### Binarisation\n",
    "Convert numerical value to binary"
   ]
  },
  {
   "cell_type": "code",
   "execution_count": 17,
   "metadata": {},
   "outputs": [
    {
     "name": "stdout",
     "output_type": "stream",
     "text": [
      "Binarized Data: [[1. 1. 1. 1.]\n",
      " [1. 0. 0. 1.]]\n"
     ]
    }
   ],
   "source": [
    "import numpy as np\n",
    "dataset = np.array([[1,1.1,2.1,3],[4,0,-1,2]])\n",
    "from sklearn import preprocessing\n",
    "\n",
    "data_binarized = preprocessing.Binarizer(threshold = 0.5).transform(dataset)\n",
    "print(\"Binarized Data:\",data_binarized)"
   ]
  },
  {
   "cell_type": "markdown",
   "metadata": {},
   "source": [
    "## Mean Removal\n",
    "Eliminate the mean from feature vector so that every feature centered on zero."
   ]
  },
  {
   "cell_type": "code",
   "execution_count": 19,
   "metadata": {},
   "outputs": [
    {
     "name": "stdout",
     "output_type": "stream",
     "text": [
      "Mean= [2.5  0.55 0.55 2.5 ]\n",
      "Standard Deviation= [1.5  0.55 1.55 0.5 ]\n",
      "Mean_Removed = [0. 0. 0. 0.]\n",
      "StandardDeviation_Removed = [1. 1. 1. 1.]\n"
     ]
    }
   ],
   "source": [
    "import numpy as np\n",
    "dataset = np.array([[1,1.1,2.1,3],[4,0,-1,2]])\n",
    "from sklearn import preprocessing\n",
    "\n",
    "#display mean & std\n",
    "print(\"Mean=\",dataset.mean(axis=0))\n",
    "print(\"Standard Deviation=\",dataset.std(axis=0))\n",
    "\n",
    "#Removing meann & std\n",
    "data_scaled = preprocessing.scale(dataset)\n",
    "print(\"Mean_Removed =\",data_scaled.mean(axis=0))\n",
    "print(\"StandardDeviation_Removed =\",data_scaled.std(axis=0))\n"
   ]
  },
  {
   "cell_type": "markdown",
   "metadata": {},
   "source": [
    "## Scaling"
   ]
  },
  {
   "cell_type": "code",
   "execution_count": 21,
   "metadata": {},
   "outputs": [
    {
     "name": "stdout",
     "output_type": "stream",
     "text": [
      "\n",
      "Min max scaled data:\n",
      " [[0. 1. 1. 1.]\n",
      " [1. 0. 0. 0.]]\n"
     ]
    }
   ],
   "source": [
    "dataset = np.array([[1,1.1,2.1,3],[4,0,-1,2]])\n",
    "\n",
    "data_scaler_minmax = preprocessing.MinMaxScaler(feature_range=(0,1))\n",
    "data_scaled_minmax = data_scaler_minmax.fit_transform(dataset)\n",
    "print (\"\\nMin max scaled data:\\n\", data_scaled_minmax)"
   ]
  },
  {
   "cell_type": "code",
   "execution_count": null,
   "metadata": {},
   "outputs": [],
   "source": []
  }
 ],
 "metadata": {
  "kernelspec": {
   "display_name": "Python 3.7.5 64-bit",
   "language": "python",
   "name": "python37564bitf505afbb3cd14e9e810aea8401c0e7b8"
  },
  "language_info": {
   "codemirror_mode": {
    "name": "ipython",
    "version": 3
   },
   "file_extension": ".py",
   "mimetype": "text/x-python",
   "name": "python",
   "nbconvert_exporter": "python",
   "pygments_lexer": "ipython3",
   "version": "3.8.2"
  }
 },
 "nbformat": 4,
 "nbformat_minor": 4
}
