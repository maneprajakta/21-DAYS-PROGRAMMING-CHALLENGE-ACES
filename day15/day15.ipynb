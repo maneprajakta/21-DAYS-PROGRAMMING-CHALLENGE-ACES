{
 "cells": [
  {
   "cell_type": "markdown",
   "metadata": {},
   "source": [
    "# DATA PROCESSING"
   ]
  },
  {
   "cell_type": "markdown",
   "metadata": {},
   "source": [
    "Steps involved in data processing\n",
    "1. Treating up missing values\n",
    "2. Treating outliners\n",
    "3. Dimentionality Reduction\n",
    "4. Variable Transformation and Feature Engineering"
   ]
  },
  {
   "cell_type": "markdown",
   "metadata": {},
   "source": [
    "# 1.Treating Missing Values\n",
    "1. Continous Data then fill na by mean,median,regression methods\n",
    "2. Descrete Data then fill na by mode and classification methods."
   ]
  },
  {
   "cell_type": "code",
   "execution_count": 2,
   "metadata": {},
   "outputs": [],
   "source": [
    "import numpy as np"
   ]
  },
  {
   "cell_type": "code",
   "execution_count": 3,
   "metadata": {},
   "outputs": [],
   "source": [
    "from sklearn.impute import SimpleImputer\n",
    "imputer = SimpleImputer(missing_values=np.nan,strategy='mean')"
   ]
  },
  {
   "cell_type": "code",
   "execution_count": null,
   "metadata": {},
   "outputs": [],
   "source": [
    "imputer  = imputer.fit(data.iloc[:,1:2])"
   ]
  },
  {
   "cell_type": "code",
   "execution_count": null,
   "metadata": {},
   "outputs": [],
   "source": [
    "data.iloc[:,1:2] = imputer.transform(data.iloc[:,1:2])"
   ]
  },
  {
   "cell_type": "markdown",
   "metadata": {},
   "source": [
    "# 2.Treating Outliers"
   ]
  },
  {
   "cell_type": "code",
   "execution_count": 5,
   "metadata": {},
   "outputs": [],
   "source": [
    "from sklearn.neighbors import LocalOutlierFactor"
   ]
  },
  {
   "cell_type": "code",
   "execution_count": 6,
   "metadata": {},
   "outputs": [
    {
     "data": {
      "text/plain": [
       "array([ 1,  1, -1,  1])"
      ]
     },
     "execution_count": 6,
     "metadata": {},
     "output_type": "execute_result"
    }
   ],
   "source": [
    "X = [[-1.1],[0.2],[101.1],[0.3]]\n",
    "clf = LocalOutlierFactor(n_neighbors=2)\n",
    "clf.fit_predict(X)"
   ]
  },
  {
   "cell_type": "code",
   "execution_count": 8,
   "metadata": {},
   "outputs": [
    {
     "data": {
      "text/plain": [
       "array([ -0.98214286,  -1.03703704, -73.36970899,  -0.98214286])"
      ]
     },
     "execution_count": 8,
     "metadata": {},
     "output_type": "execute_result"
    }
   ],
   "source": [
    "clf.negative_outlier_factor_"
   ]
  },
  {
   "cell_type": "markdown",
   "metadata": {},
   "source": [
    "# 3 Feature Engineering\n",
    "It is part of dp which deals with the science of extracting more information from the exsisting data ."
   ]
  },
  {
   "cell_type": "markdown",
   "metadata": {},
   "source": [
    "1. Feature Processing:\n",
    "    changing exsisting variable.\n",
    "    <br>a}Continuous Variables\n",
    "     <br>1.1 Feature Trnasformation:replace var with math func such as.log ,square root,\n",
    "     <br>1.2 Feature Scaling:var into same units .\n",
    "    <br> b}Categorical Variables:\n",
    "    <br> 1.1 Feature Encoding \n",
    "    <br> 1.2 Combine Sparse classes\n",
    "2. Feature Generation:\n",
    "   creating new features.\n",
    "   <br> a}Continuous Variables\n",
    "    <br> 2.1 Binning\n",
    "    <br> 2.2 Feature Interaction\n",
    "    b}Categorical Variables:\n",
    "   <br> 2.1 Missing Value\n",
    "    <br>2.2 Frequency Encoder"
   ]
  },
  {
   "cell_type": "code",
   "execution_count": null,
   "metadata": {},
   "outputs": [],
   "source": []
  }
 ],
 "metadata": {
  "kernelspec": {
   "display_name": "Python 3.7.5 64-bit",
   "language": "python",
   "name": "python37564bitf505afbb3cd14e9e810aea8401c0e7b8"
  },
  "language_info": {
   "codemirror_mode": {
    "name": "ipython",
    "version": 3
   },
   "file_extension": ".py",
   "mimetype": "text/x-python",
   "name": "python",
   "nbconvert_exporter": "python",
   "pygments_lexer": "ipython3",
   "version": "3.8.2"
  }
 },
 "nbformat": 4,
 "nbformat_minor": 4
}
